{
 "cells": [
  {
   "cell_type": "markdown",
   "metadata": {},
   "source": [
    "# WeatherPy\n",
    "----\n",
    "\n",
    "#### Note\n",
    "* Instructions have been included for each segment. You do not have to follow them exactly, but they are included to help you think through the steps."
   ]
  },
  {
   "cell_type": "code",
   "execution_count": 36,
   "metadata": {
    "scrolled": true
   },
   "outputs": [
    {
     "name": "stdout",
     "output_type": "stream",
     "text": [
      "Requirement already satisfied: citipy in /Users/kathrynbuckwalter/opt/anaconda3/envs/pythondata/lib/python3.6/site-packages (0.0.5)\r\n",
      "Requirement already satisfied: kdtree>=0.12 in /Users/kathrynbuckwalter/opt/anaconda3/envs/pythondata/lib/python3.6/site-packages (from citipy) (0.16)\r\n"
     ]
    }
   ],
   "source": [
    "!pip install citipy\n",
    "# Dependencies\n",
    "\n",
    "import pandas as pd\n",
    "import numpy as np\n",
    "import requests\n",
    "import json\n",
    "import matplotlib.pyplot as plt\n",
    "from citipy import citipy\n",
    "from scipy.stats import linregress\n",
    "\n",
    "\n",
    "# Import API key\n",
    "from api_keys import g_key\n",
    "from api_keys import weather_api_key\n",
    "\n",
    "lat_range=(-90,90)\n",
    "long_range=(-180,180)"
   ]
  },
  {
   "cell_type": "markdown",
   "metadata": {},
   "source": [
    "## Generate Cities List"
   ]
  },
  {
   "cell_type": "code",
   "execution_count": 37,
   "metadata": {},
   "outputs": [
    {
     "data": {
      "text/plain": [
       "609"
      ]
     },
     "execution_count": 37,
     "metadata": {},
     "output_type": "execute_result"
    }
   ],
   "source": [
    "cities=[]\n",
    "coordinates=[]\n",
    "\n",
    "latitudes=np.random.uniform(low=-90.000, high=90.000, size=1500)\n",
    "\n",
    "longitudes=np.random.uniform(low=-180.000, high=180.000, size=1500)\n",
    "\n",
    "coordinates=zip(latitudes,longitudes)\n",
    "\n",
    "for coordinate in coordinates:\n",
    "    city=citipy.nearest_city(coordinate[0], coordinate[1]).city_name\n",
    "    \n",
    "    if city not in cities: \n",
    "        cities.append(city)\n",
    "\n",
    "        \n",
    "len(cities)\n",
    "        \n"
   ]
  },
  {
   "cell_type": "markdown",
   "metadata": {},
   "source": [
    "### Perform API Calls\n",
    "* Perform a weather check on each city using a series of successive API calls.\n",
    "* Include a print log of each city as it'sbeing processed (with the city number and city name).\n"
   ]
  },
  {
   "cell_type": "code",
   "execution_count": null,
   "metadata": {
    "scrolled": true
   },
   "outputs": [
    {
     "name": "stdout",
     "output_type": "stream",
     "text": [
      "http://api.openweathermap.org/data/2.5/weather?appid=fc8f709794218cc02ae2f5014da83c02&units=imperial&q=\n",
      "Now searching for cities\n",
      " City processed 2 of set1|saint-pierre\n",
      " City processed 3 of set1|saskylakh\n",
      " City processed 4 of set1|srednekolymsk\n",
      " City processed 5 of set1|yellowknife\n",
      " City processed 6 of set1|ushuaia\n",
      " City processed 7 of set1|marienburg\n",
      " City processed 8 of set1|kavaratti\n",
      " City processed 9 of set1|gat\n",
      " City processed 10 of set1|ribeira grande\n",
      " City processed 11 of set1|tahta\n",
      " City processed 12 of set1|yatou\n",
      " City processed 13 of set1|bengkulu\n",
      " City processed 14 of set1|atuona\n",
      " City processed 15 of set1|prince rupert\n",
      " City processed 16 of set1|mulege\n",
      " City processed 17 of set1|abha\n",
      " City processed 18 of set1|rikitea\n",
      " City processed 19 of set1|provideniya\n",
      "City was not found. Skipping to next\n",
      " City processed 21 of set1|barrow\n",
      " City processed 22 of set1|sao filipe\n",
      " City processed 23 of set1|korla\n",
      " City processed 24 of set1|banda aceh\n",
      " City processed 25 of set1|port alfred\n",
      " City processed 26 of set1|bahia blanca\n",
      "City was not found. Skipping to next\n",
      " City processed 28 of set1|aklavik\n",
      " City processed 29 of set1|severo-kurilsk\n",
      " City processed 30 of set1|albany\n",
      " City processed 31 of set1|kapaa\n",
      " City processed 32 of set1|nouakchott\n",
      "City was not found. Skipping to next\n",
      " City processed 34 of set1|vestmannaeyjar\n",
      " City processed 35 of set1|saint anthony\n",
      " City processed 36 of set1|kasane\n",
      "City was not found. Skipping to next\n",
      " City processed 38 of set1|woodward\n",
      " City processed 39 of set1|butaritari\n",
      " City processed 40 of set1|bluff\n",
      "City was not found. Skipping to next\n",
      " City processed 42 of set1|castro\n",
      " City processed 43 of set1|clyde river\n",
      " City processed 44 of set1|airai\n",
      "City was not found. Skipping to next\n",
      " City processed 46 of set1|jamestown\n",
      " City processed 47 of set1|talnakh\n",
      " City processed 48 of set1|yumen\n",
      " City processed 49 of set1|ilo\n",
      " City processed 50 of set1|cabo san lucas\n",
      " City processed 51 of set1|antofagasta\n",
      " City processed 52 of set1|makakilo city\n",
      " City processed 53 of set1|georgetown\n",
      " City processed 54 of set1|qaanaaq\n",
      " City processed 55 of set1|oranjemund\n",
      " City processed 56 of set1|bambous virieux\n",
      " City processed 57 of set1|mataura\n",
      " City processed 58 of set1|kavieng\n",
      " City processed 59 of set1|cochrane\n",
      " City processed 60 of set1|pevek\n",
      " City processed 61 of set1|bilma\n",
      " City processed 62 of set1|tres arroyos\n",
      " City processed 63 of set1|bethel\n",
      " City processed 64 of set1|dikson\n",
      " City processed 65 of set1|sao desiderio\n",
      " City processed 66 of set1|arraial do cabo\n",
      " City processed 67 of set1|moerai\n",
      " City processed 68 of set1|bredasdorp\n",
      " City processed 69 of set1|paraiso\n",
      " City processed 70 of set1|mafinga\n",
      " City processed 71 of set1|busselton\n",
      " City processed 72 of set1|iztapa\n",
      " City processed 73 of set1|katsuura\n",
      " City processed 74 of set1|lavrentiya\n",
      " City processed 75 of set1|dong hoi\n",
      " City processed 76 of set1|hobart\n",
      " City processed 77 of set1|chuy\n",
      " City processed 78 of set1|xai-xai\n",
      " City processed 79 of set1|aksha\n",
      " City processed 80 of set1|kathmandu\n",
      " City processed 81 of set1|yeppoon\n",
      " City processed 82 of set1|kaitangata\n",
      " City processed 83 of set1|roebourne\n",
      " City processed 84 of set1|encruzilhada do sul\n",
      " City processed 85 of set1|arroyo\n",
      " City processed 86 of set1|ilulissat\n",
      " City processed 87 of set1|hami\n",
      " City processed 88 of set1|ancud\n",
      " City processed 89 of set1|punta arenas\n",
      " City processed 90 of set1|kloulklubed\n",
      " City processed 91 of set1|ostrovnoy\n",
      " City processed 92 of set1|imbituba\n",
      " City processed 93 of set1|hithadhoo\n",
      " City processed 94 of set1|tucurui\n",
      "City was not found. Skipping to next\n",
      " City processed 96 of set1|hermanus\n",
      " City processed 97 of set1|new norfolk\n",
      " City processed 98 of set1|roald\n",
      " City processed 99 of set1|namibe\n",
      " City processed 100 of set1|grindavik\n",
      " City processed 101 of set1|perbaungan\n",
      " City processed 102 of set1|nome\n",
      " City processed 103 of set1|tugaya\n",
      " City processed 104 of set1|lorengau\n",
      " City processed 105 of set1|san policarpo\n",
      "City was not found. Skipping to next\n",
      " City processed 107 of set1|cape town\n",
      "City was not found. Skipping to next\n",
      " City processed 109 of set1|pangnirtung\n",
      " City processed 110 of set1|saintes\n",
      " City processed 111 of set1|kirakira\n",
      " City processed 112 of set1|akyab\n",
      " City processed 113 of set1|namatanai\n",
      " City processed 114 of set1|camana\n",
      " City processed 115 of set1|alamosa\n",
      " City processed 116 of set1|geraldton\n",
      " City processed 117 of set1|salalah\n",
      " City processed 118 of set1|port blair\n",
      " City processed 119 of set1|thompson\n",
      " City processed 120 of set1|sabang\n",
      " City processed 121 of set1|nantucket\n",
      " City processed 122 of set1|avera\n",
      " City processed 123 of set1|port hawkesbury\n",
      " City processed 124 of set1|torbay\n",
      " City processed 125 of set1|tiksi\n",
      " City processed 126 of set1|pontianak\n",
      " City processed 127 of set1|broome\n",
      " City processed 128 of set1|esperance\n",
      " City processed 129 of set1|bayevo\n",
      " City processed 130 of set1|scottsbluff\n",
      " City processed 131 of set1|saint george\n",
      " City processed 132 of set1|lebu\n",
      " City processed 133 of set1|seoul\n",
      " City processed 134 of set1|tuktoyaktuk\n",
      " City processed 135 of set1|severobaykalsk\n",
      " City processed 136 of set1|iqaluit\n",
      " City processed 137 of set1|chase\n",
      " City processed 138 of set1|bauta\n",
      " City processed 139 of set1|elk plain\n",
      " City processed 140 of set1|berlevag\n",
      "City was not found. Skipping to next\n",
      "City was not found. Skipping to next\n",
      "City was not found. Skipping to next\n",
      " City processed 144 of set1|victoria\n",
      " City processed 145 of set1|yantongshan\n",
      " City processed 146 of set1|lompoc\n",
      " City processed 147 of set1|djibo\n",
      " City processed 148 of set1|nemuro\n",
      "City was not found. Skipping to next\n",
      " City processed 150 of set1|sringeri\n",
      " City processed 151 of set1|puntarenas\n",
      " City processed 152 of set1|finnsnes\n",
      " City processed 153 of set1|dunedin\n",
      " City processed 154 of set1|karratha\n",
      " City processed 155 of set1|asyut\n",
      " City processed 156 of set1|vila velha\n",
      " City processed 157 of set1|ola\n",
      " City processed 158 of set1|katobu\n",
      " City processed 159 of set1|hilo\n",
      " City processed 160 of set1|krasnozerskoye\n",
      " City processed 161 of set1|joshimath\n",
      " City processed 162 of set1|kelo\n",
      " City processed 163 of set1|port hedland\n",
      " City processed 164 of set1|khatanga\n",
      " City processed 165 of set1|coquimbo\n",
      " City processed 166 of set1|malindi\n",
      " City processed 167 of set1|vangaindrano\n",
      " City processed 168 of set1|olafsvik\n",
      " City processed 169 of set1|fairmont\n",
      " City processed 170 of set1|yulara\n",
      " City processed 171 of set1|phan thiet\n",
      " City processed 172 of set1|leirvik\n",
      " City processed 173 of set1|vaini\n",
      " City processed 174 of set1|dodge city\n",
      " City processed 175 of set1|east london\n",
      " City processed 176 of set1|half moon bay\n",
      " City processed 177 of set1|fayaoue\n",
      " City processed 178 of set1|sungairaya\n",
      " City processed 179 of set1|bougouni\n",
      " City processed 180 of set1|anloga\n",
      " City processed 181 of set1|kodiak\n",
      " City processed 182 of set1|pine bluff\n",
      " City processed 183 of set1|tyup\n",
      " City processed 184 of set1|maragogi\n",
      " City processed 185 of set1|kalmunai\n",
      " City processed 186 of set1|kamenka\n",
      " City processed 187 of set1|sao joao da barra\n",
      " City processed 188 of set1|nova vodolaha\n",
      " City processed 189 of set1|lahij\n",
      "City was not found. Skipping to next\n",
      " City processed 191 of set1|pokhara\n",
      " City processed 192 of set1|safford\n",
      " City processed 193 of set1|narsaq\n",
      " City processed 194 of set1|leningradskiy\n",
      " City processed 195 of set1|riberalta\n",
      " City processed 196 of set1|chokurdakh\n",
      " City processed 197 of set1|itoman\n",
      "City was not found. Skipping to next\n",
      " City processed 199 of set1|batagay\n",
      " City processed 200 of set1|cabra\n",
      " City processed 201 of set1|san pedro\n",
      " City processed 202 of set1|nelson bay\n",
      " City processed 203 of set1|samarai\n",
      " City processed 204 of set1|naze\n",
      " City processed 205 of set1|faanui\n",
      " City processed 206 of set1|urubicha\n",
      " City processed 207 of set1|carnarvon\n",
      " City processed 208 of set1|puro\n",
      "City was not found. Skipping to next\n",
      "City was not found. Skipping to next\n",
      " City processed 211 of set1|birao\n",
      " City processed 212 of set1|buala\n",
      " City processed 213 of set1|uarini\n",
      " City processed 214 of set1|marzuq\n",
      "City was not found. Skipping to next\n",
      " City processed 216 of set1|lebork\n",
      " City processed 217 of set1|gladstone\n",
      " City processed 218 of set1|rio grande\n",
      " City processed 219 of set1|portland\n",
      " City processed 220 of set1|wattegama\n",
      " City processed 221 of set1|kayes\n",
      " City processed 222 of set1|codrington\n"
     ]
    },
    {
     "name": "stdout",
     "output_type": "stream",
     "text": [
      " City processed 223 of set1|singaraja\n",
      " City processed 224 of set1|maine-soroa\n",
      "City was not found. Skipping to next\n",
      " City processed 226 of set1|svetlogorsk\n",
      " City processed 227 of set1|nesna\n",
      " City processed 228 of set1|ponta do sol\n",
      "City was not found. Skipping to next\n",
      " City processed 230 of set1|mar del plata\n",
      " City processed 231 of set1|vila franca do campo\n",
      " City processed 232 of set1|tiznit\n",
      " City processed 233 of set1|cidreira\n",
      "City was not found. Skipping to next\n",
      " City processed 235 of set1|upernavik\n",
      " City processed 236 of set1|spassk\n",
      " City processed 237 of set1|kahului\n",
      "City was not found. Skipping to next\n",
      " City processed 239 of set1|calvinia\n",
      "City was not found. Skipping to next\n",
      " City processed 241 of set1|karachi\n",
      " City processed 242 of set1|katherine\n",
      " City processed 243 of set1|dobra\n",
      " City processed 244 of set1|sitka\n",
      " City processed 245 of set1|opuwo\n",
      " City processed 246 of set1|namtsy\n",
      " City processed 247 of set1|khorol\n",
      " City processed 248 of set1|susanville\n",
      " City processed 249 of set1|omsukchan\n",
      " City processed 250 of set1|gariaband\n",
      " City processed 251 of set1|tura\n",
      " City processed 252 of set1|ballina\n",
      " City processed 253 of set1|hofn\n",
      " City processed 254 of set1|saint-philippe\n",
      " City processed 255 of set1|guerrero negro\n",
      "City was not found. Skipping to next\n",
      " City processed 257 of set1|kibala\n",
      " City processed 258 of set1|nsoko\n",
      " City processed 259 of set1|pisco\n",
      " City processed 260 of set1|taltal\n",
      " City processed 261 of set1|carlsbad\n",
      " City processed 262 of set1|shieli\n",
      "City was not found. Skipping to next\n",
      " City processed 264 of set1|belaya gora\n",
      " City processed 265 of set1|jaen\n",
      " City processed 266 of set1|lauterbach\n",
      " City processed 267 of set1|naruto\n",
      " City processed 268 of set1|poltavka\n",
      " City processed 269 of set1|ulaangom\n",
      " City processed 270 of set1|doha\n",
      " City processed 271 of set1|senneterre\n",
      " City processed 272 of set1|port macquarie\n",
      " City processed 273 of set1|richards bay\n",
      " City processed 274 of set1|amahai\n",
      " City processed 275 of set1|cabedelo\n",
      " City processed 276 of set1|fairbanks\n",
      " City processed 277 of set1|luanda\n",
      " City processed 278 of set1|saldanha\n",
      " City processed 279 of set1|guarapari\n",
      " City processed 280 of set1|fort nelson\n",
      " City processed 281 of set1|tuatapere\n",
      " City processed 282 of set1|port lincoln\n",
      " City processed 283 of set1|jha jha\n",
      " City processed 284 of set1|rawson\n"
     ]
    }
   ],
   "source": [
    "base_url=\"http://api.openweathermap.org/data/2.5/weather?\"\n",
    "target_url='http://api.openweathermap.org/data/2.5/weather?'+'appid='+ weather_api_key +'&units=imperial'+'&q='\n",
    "print(target_url)\n",
    "\n",
    "city_count=1\n",
    "count=1\n",
    "\n",
    "city_list=[]\n",
    "#country=[]\n",
    "#city_name=[]\n",
    "#max_temps=[]\n",
    "#humidity=[]\n",
    "#cloudiness=[]\n",
    "#wind_speed=[]\n",
    "\n",
    "#latitude=[]\n",
    "#longitude=[]\n",
    "#date=[]\n",
    "\n",
    "print(\"Now searching for cities\")\n",
    "\n",
    "for city in cities:\n",
    "    response=requests.get(target_url + city)\n",
    "    response_json=response.json()\n",
    "    city_count+=1\n",
    "    \n",
    "\n",
    "    try:\n",
    "      \n",
    "        max_temp = response_json[\"main\"][\"temp_max\"]\n",
    "        humidity=response_json[\"main\"][\"humidity\"]\n",
    "        cloudiness=response_json[\"clouds\"][\"all\"]\n",
    "        wind_speed=response_json[\"wind\"][\"speed\"]\n",
    "        country=response_json[\"sys\"][\"country\"]\n",
    "        city_name=response_json[\"name\"]\n",
    "        latitude=response_json[\"coord\"][\"lat\"]\n",
    "        longitude=response_json[\"coord\"][\"lon\"]\n",
    "        date=response_json[\"dt\"]\n",
    "        \n",
    "        \n",
    "        city_list.append({\n",
    "            \"City\":city_name,\n",
    "            \"Lat\":latitude,\n",
    "            \"Lng\":longitude,\n",
    "            \"Max Temp\":max_temp,\n",
    "            \"Humidity\":humidity,\n",
    "            \"Cloudiness\":cloudiness,\n",
    "            \"Wind Speed\":wind_speed,\n",
    "            \"Country\":country,\n",
    "            \"Date\":date\n",
    "            \n",
    "        })\n",
    "              \n",
    "\n",
    "\n",
    "        print(f\" City processed {city_count} of set{count}|{city}\")\n",
    "        #if city_count>10:\n",
    "            #break\n",
    "        \n",
    "    except:\n",
    "        print(\"City was not found. Skipping to next\")\n",
    "        pass\n",
    "    \n",
    "    \n",
    "        \n",
    "        \n",
    "        "
   ]
  },
  {
   "cell_type": "markdown",
   "metadata": {},
   "source": [
    "### Convert Raw Data to DataFrame\n",
    "* Export the city data into a .csv.\n",
    "* Display the DataFrame"
   ]
  },
  {
   "cell_type": "code",
   "execution_count": null,
   "metadata": {},
   "outputs": [],
   "source": [
    "\n",
    "city_list_df=pd.DataFrame(city_list)\n",
    "\n",
    "city_list_df.head()\n",
    "\n",
    "\n",
    "\n"
   ]
  },
  {
   "cell_type": "code",
   "execution_count": 12,
   "metadata": {},
   "outputs": [
    {
     "data": {
      "text/html": [
       "<div>\n",
       "<style scoped>\n",
       "    .dataframe tbody tr th:only-of-type {\n",
       "        vertical-align: middle;\n",
       "    }\n",
       "\n",
       "    .dataframe tbody tr th {\n",
       "        vertical-align: top;\n",
       "    }\n",
       "\n",
       "    .dataframe thead th {\n",
       "        text-align: right;\n",
       "    }\n",
       "</style>\n",
       "<table border=\"1\" class=\"dataframe\">\n",
       "  <thead>\n",
       "    <tr style=\"text-align: right;\">\n",
       "      <th></th>\n",
       "      <th>Lat</th>\n",
       "      <th>Lng</th>\n",
       "      <th>Max Temp</th>\n",
       "      <th>Humidity</th>\n",
       "      <th>Cloudiness</th>\n",
       "      <th>Wind Speed</th>\n",
       "      <th>Date</th>\n",
       "    </tr>\n",
       "  </thead>\n",
       "  <tbody>\n",
       "    <tr>\n",
       "      <th>count</th>\n",
       "      <td>9.000000</td>\n",
       "      <td>9.000000</td>\n",
       "      <td>9.000000</td>\n",
       "      <td>9.000000</td>\n",
       "      <td>9.000000</td>\n",
       "      <td>9.000000</td>\n",
       "      <td>9.000000e+00</td>\n",
       "    </tr>\n",
       "    <tr>\n",
       "      <th>mean</th>\n",
       "      <td>-12.953333</td>\n",
       "      <td>62.291111</td>\n",
       "      <td>62.850000</td>\n",
       "      <td>66.555556</td>\n",
       "      <td>44.333333</td>\n",
       "      <td>7.902222</td>\n",
       "      <td>1.600878e+09</td>\n",
       "    </tr>\n",
       "    <tr>\n",
       "      <th>std</th>\n",
       "      <td>38.020819</td>\n",
       "      <td>106.220752</td>\n",
       "      <td>20.200617</td>\n",
       "      <td>25.293829</td>\n",
       "      <td>38.000000</td>\n",
       "      <td>5.029159</td>\n",
       "      <td>1.157681e+02</td>\n",
       "    </tr>\n",
       "    <tr>\n",
       "      <th>min</th>\n",
       "      <td>-54.800000</td>\n",
       "      <td>-114.770000</td>\n",
       "      <td>44.600000</td>\n",
       "      <td>12.000000</td>\n",
       "      <td>1.000000</td>\n",
       "      <td>2.590000</td>\n",
       "      <td>1.600878e+09</td>\n",
       "    </tr>\n",
       "    <tr>\n",
       "      <th>25%</th>\n",
       "      <td>-46.190000</td>\n",
       "      <td>-13.050000</td>\n",
       "      <td>51.010000</td>\n",
       "      <td>59.000000</td>\n",
       "      <td>14.000000</td>\n",
       "      <td>4.700000</td>\n",
       "      <td>1.600878e+09</td>\n",
       "    </tr>\n",
       "    <tr>\n",
       "      <th>50%</th>\n",
       "      <td>-30.300000</td>\n",
       "      <td>100.340000</td>\n",
       "      <td>51.800000</td>\n",
       "      <td>78.000000</td>\n",
       "      <td>40.000000</td>\n",
       "      <td>7.000000</td>\n",
       "      <td>1.600878e+09</td>\n",
       "    </tr>\n",
       "    <tr>\n",
       "      <th>75%</th>\n",
       "      <td>13.970000</td>\n",
       "      <td>153.130000</td>\n",
       "      <td>70.590000</td>\n",
       "      <td>78.000000</td>\n",
       "      <td>79.000000</td>\n",
       "      <td>8.050000</td>\n",
       "      <td>1.600878e+09</td>\n",
       "    </tr>\n",
       "    <tr>\n",
       "      <th>max</th>\n",
       "      <td>55.280000</td>\n",
       "      <td>168.860000</td>\n",
       "      <td>105.440000</td>\n",
       "      <td>93.000000</td>\n",
       "      <td>100.000000</td>\n",
       "      <td>19.460000</td>\n",
       "      <td>1.600878e+09</td>\n",
       "    </tr>\n",
       "  </tbody>\n",
       "</table>\n",
       "</div>"
      ],
      "text/plain": [
       "             Lat         Lng    Max Temp   Humidity  Cloudiness  Wind Speed  \\\n",
       "count   9.000000    9.000000    9.000000   9.000000    9.000000    9.000000   \n",
       "mean  -12.953333   62.291111   62.850000  66.555556   44.333333    7.902222   \n",
       "std    38.020819  106.220752   20.200617  25.293829   38.000000    5.029159   \n",
       "min   -54.800000 -114.770000   44.600000  12.000000    1.000000    2.590000   \n",
       "25%   -46.190000  -13.050000   51.010000  59.000000   14.000000    4.700000   \n",
       "50%   -30.300000  100.340000   51.800000  78.000000   40.000000    7.000000   \n",
       "75%    13.970000  153.130000   70.590000  78.000000   79.000000    8.050000   \n",
       "max    55.280000  168.860000  105.440000  93.000000  100.000000   19.460000   \n",
       "\n",
       "               Date  \n",
       "count  9.000000e+00  \n",
       "mean   1.600878e+09  \n",
       "std    1.157681e+02  \n",
       "min    1.600878e+09  \n",
       "25%    1.600878e+09  \n",
       "50%    1.600878e+09  \n",
       "75%    1.600878e+09  \n",
       "max    1.600878e+09  "
      ]
     },
     "execution_count": 12,
     "metadata": {},
     "output_type": "execute_result"
    }
   ],
   "source": [
    "city_list_df.describe()"
   ]
  },
  {
   "cell_type": "markdown",
   "metadata": {},
   "source": [
    "## Inspect the data and remove the cities where the humidity > 100%.\n",
    "----\n",
    "Skip this step if there are no cities that have humidity > 100%. "
   ]
  },
  {
   "cell_type": "code",
   "execution_count": 6,
   "metadata": {},
   "outputs": [
    {
     "data": {
      "text/html": [
       "<div>\n",
       "<style scoped>\n",
       "    .dataframe tbody tr th:only-of-type {\n",
       "        vertical-align: middle;\n",
       "    }\n",
       "\n",
       "    .dataframe tbody tr th {\n",
       "        vertical-align: top;\n",
       "    }\n",
       "\n",
       "    .dataframe thead th {\n",
       "        text-align: right;\n",
       "    }\n",
       "</style>\n",
       "<table border=\"1\" class=\"dataframe\">\n",
       "  <thead>\n",
       "    <tr style=\"text-align: right;\">\n",
       "      <th></th>\n",
       "      <th>Lat</th>\n",
       "      <th>Lng</th>\n",
       "      <th>Max Temp</th>\n",
       "      <th>Humidity</th>\n",
       "      <th>Cloudiness</th>\n",
       "      <th>Wind Speed</th>\n",
       "      <th>Date</th>\n",
       "    </tr>\n",
       "  </thead>\n",
       "  <tbody>\n",
       "    <tr>\n",
       "      <th>count</th>\n",
       "      <td>550.000000</td>\n",
       "      <td>550.000000</td>\n",
       "      <td>550.000000</td>\n",
       "      <td>550.000000</td>\n",
       "      <td>550.000000</td>\n",
       "      <td>550.000000</td>\n",
       "      <td>5.500000e+02</td>\n",
       "    </tr>\n",
       "    <tr>\n",
       "      <th>mean</th>\n",
       "      <td>19.973545</td>\n",
       "      <td>17.124400</td>\n",
       "      <td>58.331400</td>\n",
       "      <td>67.890909</td>\n",
       "      <td>52.141818</td>\n",
       "      <td>8.544800</td>\n",
       "      <td>1.585764e+09</td>\n",
       "    </tr>\n",
       "    <tr>\n",
       "      <th>std</th>\n",
       "      <td>33.284840</td>\n",
       "      <td>91.595451</td>\n",
       "      <td>25.795297</td>\n",
       "      <td>20.864881</td>\n",
       "      <td>35.766469</td>\n",
       "      <td>6.078869</td>\n",
       "      <td>5.539674e+01</td>\n",
       "    </tr>\n",
       "    <tr>\n",
       "      <th>min</th>\n",
       "      <td>-54.800000</td>\n",
       "      <td>-179.170000</td>\n",
       "      <td>-11.340000</td>\n",
       "      <td>9.000000</td>\n",
       "      <td>0.000000</td>\n",
       "      <td>0.160000</td>\n",
       "      <td>1.585764e+09</td>\n",
       "    </tr>\n",
       "    <tr>\n",
       "      <th>25%</th>\n",
       "      <td>-8.077500</td>\n",
       "      <td>-64.627500</td>\n",
       "      <td>42.800000</td>\n",
       "      <td>55.000000</td>\n",
       "      <td>20.000000</td>\n",
       "      <td>4.525000</td>\n",
       "      <td>1.585764e+09</td>\n",
       "    </tr>\n",
       "    <tr>\n",
       "      <th>50%</th>\n",
       "      <td>23.630000</td>\n",
       "      <td>19.635000</td>\n",
       "      <td>64.940000</td>\n",
       "      <td>72.000000</td>\n",
       "      <td>57.000000</td>\n",
       "      <td>7.325000</td>\n",
       "      <td>1.585764e+09</td>\n",
       "    </tr>\n",
       "    <tr>\n",
       "      <th>75%</th>\n",
       "      <td>48.672500</td>\n",
       "      <td>97.350000</td>\n",
       "      <td>78.800000</td>\n",
       "      <td>83.000000</td>\n",
       "      <td>86.750000</td>\n",
       "      <td>11.410000</td>\n",
       "      <td>1.585764e+09</td>\n",
       "    </tr>\n",
       "    <tr>\n",
       "      <th>max</th>\n",
       "      <td>78.220000</td>\n",
       "      <td>179.320000</td>\n",
       "      <td>102.200000</td>\n",
       "      <td>100.000000</td>\n",
       "      <td>100.000000</td>\n",
       "      <td>46.080000</td>\n",
       "      <td>1.585764e+09</td>\n",
       "    </tr>\n",
       "  </tbody>\n",
       "</table>\n",
       "</div>"
      ],
      "text/plain": [
       "              Lat         Lng    Max Temp    Humidity  Cloudiness  Wind Speed  \\\n",
       "count  550.000000  550.000000  550.000000  550.000000  550.000000  550.000000   \n",
       "mean    19.973545   17.124400   58.331400   67.890909   52.141818    8.544800   \n",
       "std     33.284840   91.595451   25.795297   20.864881   35.766469    6.078869   \n",
       "min    -54.800000 -179.170000  -11.340000    9.000000    0.000000    0.160000   \n",
       "25%     -8.077500  -64.627500   42.800000   55.000000   20.000000    4.525000   \n",
       "50%     23.630000   19.635000   64.940000   72.000000   57.000000    7.325000   \n",
       "75%     48.672500   97.350000   78.800000   83.000000   86.750000   11.410000   \n",
       "max     78.220000  179.320000  102.200000  100.000000  100.000000   46.080000   \n",
       "\n",
       "               Date  \n",
       "count  5.500000e+02  \n",
       "mean   1.585764e+09  \n",
       "std    5.539674e+01  \n",
       "min    1.585764e+09  \n",
       "25%    1.585764e+09  \n",
       "50%    1.585764e+09  \n",
       "75%    1.585764e+09  \n",
       "max    1.585764e+09  "
      ]
     },
     "execution_count": 6,
     "metadata": {},
     "output_type": "execute_result"
    }
   ],
   "source": [
    "#if city_list_df([\"Humidity\"]>100).index\n",
    "#high_humidity=city_list_df([\"Humidity\"]>100).index\n",
    "#clean_city_list_df=city_list.drop(high_humidity, inplace=False)\n",
    "#clean_city_list_df"
   ]
  },
  {
   "cell_type": "code",
   "execution_count": 17,
   "metadata": {},
   "outputs": [
    {
     "data": {
      "text/plain": [
       "Int64Index([], dtype='int64')"
      ]
     },
     "execution_count": 17,
     "metadata": {},
     "output_type": "execute_result"
    }
   ],
   "source": [
    "#  Get the indices of cities that have humidity over 100%.\n",
    "#high_humidity=city_list_df([\"Humidity\"]>100).index\n"
   ]
  },
  {
   "cell_type": "code",
   "execution_count": 19,
   "metadata": {},
   "outputs": [
    {
     "data": {
      "text/html": [
       "<div>\n",
       "<style scoped>\n",
       "    .dataframe tbody tr th:only-of-type {\n",
       "        vertical-align: middle;\n",
       "    }\n",
       "\n",
       "    .dataframe tbody tr th {\n",
       "        vertical-align: top;\n",
       "    }\n",
       "\n",
       "    .dataframe thead th {\n",
       "        text-align: right;\n",
       "    }\n",
       "</style>\n",
       "<table border=\"1\" class=\"dataframe\">\n",
       "  <thead>\n",
       "    <tr style=\"text-align: right;\">\n",
       "      <th></th>\n",
       "      <th>City</th>\n",
       "      <th>Lat</th>\n",
       "      <th>Lng</th>\n",
       "      <th>Max Temp</th>\n",
       "      <th>Humidity</th>\n",
       "      <th>Cloudiness</th>\n",
       "      <th>Wind Speed</th>\n",
       "      <th>Country</th>\n",
       "      <th>Date</th>\n",
       "    </tr>\n",
       "  </thead>\n",
       "  <tbody>\n",
       "    <tr>\n",
       "      <td>0</td>\n",
       "      <td>butaritari</td>\n",
       "      <td>3.07</td>\n",
       "      <td>172.79</td>\n",
       "      <td>83.32</td>\n",
       "      <td>74</td>\n",
       "      <td>84</td>\n",
       "      <td>10.42</td>\n",
       "      <td>KI</td>\n",
       "      <td>1593605283</td>\n",
       "    </tr>\n",
       "    <tr>\n",
       "      <td>1</td>\n",
       "      <td>yerbogachen</td>\n",
       "      <td>61.28</td>\n",
       "      <td>108.01</td>\n",
       "      <td>79.52</td>\n",
       "      <td>58</td>\n",
       "      <td>20</td>\n",
       "      <td>7.70</td>\n",
       "      <td>RU</td>\n",
       "      <td>1593605121</td>\n",
       "    </tr>\n",
       "    <tr>\n",
       "      <td>2</td>\n",
       "      <td>cape town</td>\n",
       "      <td>-33.93</td>\n",
       "      <td>18.42</td>\n",
       "      <td>73.00</td>\n",
       "      <td>77</td>\n",
       "      <td>27</td>\n",
       "      <td>4.70</td>\n",
       "      <td>ZA</td>\n",
       "      <td>1593605039</td>\n",
       "    </tr>\n",
       "    <tr>\n",
       "      <td>3</td>\n",
       "      <td>touba</td>\n",
       "      <td>8.28</td>\n",
       "      <td>-7.68</td>\n",
       "      <td>79.97</td>\n",
       "      <td>75</td>\n",
       "      <td>82</td>\n",
       "      <td>3.58</td>\n",
       "      <td>CI</td>\n",
       "      <td>1593605284</td>\n",
       "    </tr>\n",
       "    <tr>\n",
       "      <td>4</td>\n",
       "      <td>jamestown</td>\n",
       "      <td>42.10</td>\n",
       "      <td>-79.24</td>\n",
       "      <td>64.00</td>\n",
       "      <td>88</td>\n",
       "      <td>1</td>\n",
       "      <td>6.93</td>\n",
       "      <td>US</td>\n",
       "      <td>1593605284</td>\n",
       "    </tr>\n",
       "  </tbody>\n",
       "</table>\n",
       "</div>"
      ],
      "text/plain": [
       "          City    Lat     Lng  Max Temp  Humidity  Cloudiness  Wind Speed  \\\n",
       "0   butaritari   3.07  172.79     83.32        74          84       10.42   \n",
       "1  yerbogachen  61.28  108.01     79.52        58          20        7.70   \n",
       "2    cape town -33.93   18.42     73.00        77          27        4.70   \n",
       "3        touba   8.28   -7.68     79.97        75          82        3.58   \n",
       "4    jamestown  42.10  -79.24     64.00        88           1        6.93   \n",
       "\n",
       "  Country        Date  \n",
       "0      KI  1593605283  \n",
       "1      RU  1593605121  \n",
       "2      ZA  1593605039  \n",
       "3      CI  1593605284  \n",
       "4      US  1593605284  "
      ]
     },
     "execution_count": 19,
     "metadata": {},
     "output_type": "execute_result"
    }
   ],
   "source": [
    "# Make a new DataFrame equal to the city data to drop all humidity outliers by index.\n",
    "# Passing \"inplace=False\" will make a copy of the city_data DataFrame, which we call \"clean_city_data\".\n",
    "#clean_city_list_df=city_list.drop(high_humidity, inplace=False)\n",
    "#clean_city_list_df"
   ]
  },
  {
   "cell_type": "code",
   "execution_count": null,
   "metadata": {},
   "outputs": [],
   "source": [
    "\n"
   ]
  },
  {
   "cell_type": "markdown",
   "metadata": {},
   "source": [
    "## Plotting the Data\n",
    "* Use proper labeling of the plots using plot titles (including date of analysis) and axes labels.\n",
    "* Save the plotted figures as .pngs."
   ]
  },
  {
   "cell_type": "markdown",
   "metadata": {},
   "source": [
    "## Latitude vs. Temperature Plot"
   ]
  },
  {
   "cell_type": "code",
   "execution_count": 23,
   "metadata": {
    "scrolled": true
   },
   "outputs": [
    {
     "data": {
      "image/png": "[encoded data removed]",
      "text/plain": [
       "<Figure size 432x288 with 1 Axes>"
      ]
     },
     "metadata": {
      "needs_background": "light"
     },
     "output_type": "display_data"
    }
   ],
   "source": [
    "\n",
    "lat_temp_fig=plt.figure()\n",
    "\n",
    "plt.scatter(city_list_df[\"Lat\"],city_list_df[\"Max Temp\"])\n",
    "plt.xlabel(\"Latitude\")\n",
    "plt.ylabel(\"Max Temperature (F)\")\n",
    "plt.title(\"City Latitude vs. Max Tempperature\")\n",
    "\n",
    "\n",
    "plt.show()\n",
    "\n",
    "lat_temp_fig.savefig(\"scatter_lat_temp.png\")\n"
   ]
  },
  {
   "cell_type": "markdown",
   "metadata": {},
   "source": [
    "## Latitude vs. Humidity Plot"
   ]
  },
  {
   "cell_type": "code",
   "execution_count": 25,
   "metadata": {},
   "outputs": [
    {
     "data": {
      "image/png": "[encoded data removed]",
      "text/plain": [
       "<Figure size 432x288 with 1 Axes>"
      ]
     },
     "metadata": {
      "needs_background": "light"
     },
     "output_type": "display_data"
    }
   ],
   "source": [
    "lat_humidity_fig=plt.figure()\n",
    "\n",
    "plt.scatter(city_list_df[\"Lat\"],city_list_df[\"Humidity\"])\n",
    "plt.xlabel(\"Latitude\")\n",
    "plt.ylabel(\"Humidity\")\n",
    "plt.title(\"City Latitude vs. Humidity\")\n",
    "\n",
    "\n",
    "plt.show()\n",
    "\n",
    "lat_humidity_fig.savefig(\"scatter_lat_humidity.png\")\n",
    "\n"
   ]
  },
  {
   "cell_type": "markdown",
   "metadata": {},
   "source": [
    "## Latitude vs. Cloudiness Plot"
   ]
  },
  {
   "cell_type": "code",
   "execution_count": 26,
   "metadata": {},
   "outputs": [
    {
     "data": {
      "image/png": "[encoded data removed]",
      "text/plain": [
       "<Figure size 432x288 with 1 Axes>"
      ]
     },
     "metadata": {
      "needs_background": "light"
     },
     "output_type": "display_data"
    }
   ],
   "source": [
    "lat_cloud_fig=plt.figure()\n",
    "\n",
    "plt.scatter(city_list_df[\"Lat\"],city_list_df[\"Cloudiness\"])\n",
    "plt.xlabel(\"Latitude\")\n",
    "plt.ylabel(\"Cloudiness (%)\")\n",
    "plt.title(\"City Latitude vs. Cloudiness\")\n",
    "\n",
    "\n",
    "plt.show()\n",
    "\n",
    "lat_cloud_fig.savefig(\"scatter_lat_cloudiness.png\")\n",
    "\n",
    "\n",
    "\n",
    "\n",
    "\n"
   ]
  },
  {
   "cell_type": "markdown",
   "metadata": {},
   "source": [
    "## Latitude vs. Wind Speed Plot"
   ]
  },
  {
   "cell_type": "code",
   "execution_count": 27,
   "metadata": {},
   "outputs": [
    {
     "data": {
      "image/png": "[encoded data removed]",
      "text/plain": [
       "<Figure size 432x288 with 1 Axes>"
      ]
     },
     "metadata": {
      "needs_background": "light"
     },
     "output_type": "display_data"
    }
   ],
   "source": [
    "lat_wind_fig=plt.figure()\n",
    "\n",
    "plt.scatter(city_list_df[\"Lat\"],city_list_df[\"Wind Speed\"])\n",
    "plt.xlabel(\"Latitude\")\n",
    "plt.ylabel(\"Cloudiness (%)\")\n",
    "plt.title(\"City Latitude vs. Cloudiness\")\n",
    "\n",
    "plt.show()\n",
    "\n",
    "lat_wind_fig.savefig(\"scatter_lat_wind.png\")\n",
    "\n",
    "\n",
    "\n",
    "\n"
   ]
  },
  {
   "cell_type": "markdown",
   "metadata": {},
   "source": [
    "## Linear Regression"
   ]
  },
  {
   "cell_type": "code",
   "execution_count": 24,
   "metadata": {},
   "outputs": [],
   "source": []
  },
  {
   "cell_type": "markdown",
   "metadata": {},
   "source": [
    "####  Northern Hemisphere - Max Temp vs. Latitude Linear Regression"
   ]
  },
  {
   "cell_type": "code",
   "execution_count": 22,
   "metadata": {},
   "outputs": [
    {
     "data": {
      "image/png": "[encoded data removed]",
      "text/plain": [
       "<Figure size 432x288 with 1 Axes>"
      ]
     },
     "metadata": {
      "needs_background": "light"
     },
     "output_type": "display_data"
    }
   ],
   "source": [
    "north_df=city_list_df.loc[(city_list_df[\"Lat\"]>=0)]\n",
    "\n",
    "nlat_temp_reg_fig=plt.figure()\n",
    "\n",
    "plt.scatter(north_df[\"Lat\"],north_df[\"Max Temp\"])\n",
    "plt.xlabel(\"Latitude\")\n",
    "plt.ylabel(\"Max Temperature (F)\")\n",
    "plt.title(\"City Latitude vs. Max Tempperature\")\n",
    "\n",
    "\n",
    "(slope, intercept, rvalue, pvalue, stderr)= linregress(north_df[\"Lat\"],north_df[\"Max Temp\"])\n",
    "regress_values= north_df[\"Lat\"] * slope + intercept\n",
    "line_eq=\"y = \" + str(round(slope,2)) + \"x +\" +str(round(intercept,2))\n",
    "\n",
    "plt.plot(north_df[\"Lat\"],regress_values,\"r-\")\n",
    "\n",
    "plt.show()\n",
    "\n",
    "nlat_temp_reg_fig.savefig(\"scatter_lat_temp_regression_north.png\")\n",
    "\n",
    "\n",
    "\n",
    "\n"
   ]
  },
  {
   "cell_type": "markdown",
   "metadata": {},
   "source": [
    "####  Southern Hemisphere - Max Temp vs. Latitude Linear Regression"
   ]
  },
  {
   "cell_type": "code",
   "execution_count": 29,
   "metadata": {},
   "outputs": [
    {
     "data": {
      "image/png": "[encoded data removed]",
      "text/plain": [
       "<Figure size 432x288 with 1 Axes>"
      ]
     },
     "metadata": {
      "needs_background": "light"
     },
     "output_type": "display_data"
    }
   ],
   "source": [
    "\n",
    "south_df=city_list_df.loc[(city_list_df[\"Lat\"]<0)]\n",
    "\n",
    "slat_temp_reg_fig=plt.figure()\n",
    "\n",
    "plt.scatter(south_df[\"Lat\"],south_df[\"Max Temp\"])\n",
    "plt.xlabel(\"Latitude\")\n",
    "plt.ylabel(\"Max Temperature (F)\")\n",
    "plt.title(\"City Latitude vs. Max Tempperature\")\n",
    "\n",
    "\n",
    "(slope, intercept, rvalue, pvalue, stderr)= linregress(south_df[\"Lat\"],south_df[\"Max Temp\"])\n",
    "regress_values= south_df[\"Lat\"] * slope + intercept\n",
    "line_eq=\"y = \" + str(round(slope,2)) + \"x +\" +str(round(intercept,2))\n",
    "\n",
    "plt.plot(south_df[\"Lat\"],regress_values,\"r-\")\n",
    "\n",
    "plt.show()\n",
    "\n",
    "slat_temp_reg_fig.savefig(\"scatter_lat_temp_regression_south.png\")\n",
    "\n"
   ]
  },
  {
   "cell_type": "markdown",
   "metadata": {},
   "source": [
    "####  Northern Hemisphere - Humidity (%) vs. Latitude Linear Regression"
   ]
  },
  {
   "cell_type": "code",
   "execution_count": 27,
   "metadata": {},
   "outputs": [
    {
     "name": "stdout",
     "output_type": "stream",
     "text": [
      "The r-value is: 0.000543987878808455\n"
     ]
    },
    {
     "data": {
      "image/png": "[encoded data removed]",
      "text/plain": [
       "<Figure size 432x288 with 1 Axes>"
      ]
     },
     "metadata": {
      "needs_background": "light"
     },
     "output_type": "display_data"
    }
   ],
   "source": [
    "\n",
    "north_df=city_list_df.loc[(city_list_df[\"Lat\"]>=0)]\n",
    "\n",
    "nlat_humidity_reg_fig=plt.figure()\n",
    "\n",
    "plt.scatter(north_df[\"Lat\"],north_df[\"Humidity\"])\n",
    "plt.xlabel(\"Latitude\")\n",
    "plt.ylabel(\"Humidity (%)\")\n",
    "plt.title(\"City Latitude vs. Humidity (%)\")\n",
    "\n",
    "\n",
    "(slope, intercept, rvalue, pvalue, stderr)= linregress(north_df[\"Lat\"],north_df[\"Humidity\"])\n",
    "regress_values= north_df[\"Lat\"] * slope + intercept\n",
    "line_eq=\"y = \" + str(round(slope,2)) + \"x +\" +str(round(intercept,2))\n",
    "\n",
    "plt.plot(north_df[\"Lat\"],regress_values,\"r-\")\n",
    "\n",
    "plt.show()\n",
    "\n",
    "nlat_humidity_reg_fig.savefig(\"scatter_lat_humidity_regression_north.png\")"
   ]
  },
  {
   "cell_type": "markdown",
   "metadata": {},
   "source": [
    "####  Southern Hemisphere - Humidity (%) vs. Latitude Linear Regression"
   ]
  },
  {
   "cell_type": "code",
   "execution_count": 35,
   "metadata": {},
   "outputs": [
    {
     "data": {
      "image/png": "[encoded data removed]",
      "text/plain": [
       "<Figure size 432x288 with 1 Axes>"
      ]
     },
     "metadata": {
      "needs_background": "light"
     },
     "output_type": "display_data"
    }
   ],
   "source": [
    "\n",
    "south_df=city_list_df.loc[(city_list_df[\"Lat\"]<0)]\n",
    "\n",
    "slat_hum_reg_fig=plt.figure()\n",
    "\n",
    "plt.scatter(south_df[\"Lat\"],south_df[\"Humidity\"])\n",
    "plt.xlabel(\"Latitude\")\n",
    "plt.ylabel(\"Humidity (%)\")\n",
    "plt.title(\"City Latitude vs. Humidity(%)\")\n",
    "\n",
    "\n",
    "(slope, intercept, rvalue, pvalue, stderr)= linregress(south_df[\"Lat\"],south_df[\"Humidity\"])\n",
    "regress_values= south_df[\"Lat\"] * slope + intercept\n",
    "line_eq=\"y = \" + str(round(slope,2)) + \"x +\" +str(round(intercept,2))\n",
    "\n",
    "plt.plot(south_df[\"Lat\"],regress_values,\"r-\")\n",
    "\n",
    "plt.show()\n",
    "\n",
    "slat_hum_reg_fig.savefig(\"scatter_lat_hum_regression_south.png\")"
   ]
  },
  {
   "cell_type": "markdown",
   "metadata": {},
   "source": [
    "####  Northern Hemisphere - Cloudiness (%) vs. Latitude Linear Regression"
   ]
  },
  {
   "cell_type": "code",
   "execution_count": 29,
   "metadata": {},
   "outputs": [
    {
     "name": "stdout",
     "output_type": "stream",
     "text": [
      "The r-value is: 0.0020898727664228514\n"
     ]
    },
    {
     "data": {
      "image/png": "[encoded data removed]",
      "text/plain": [
       "<Figure size 432x288 with 1 Axes>"
      ]
     },
     "metadata": {
      "needs_background": "light"
     },
     "output_type": "display_data"
    }
   ],
   "source": [
    "\n",
    "north_df=city_list_df.loc[(city_list_df[\"Lat\"]>=0)]\n",
    "\n",
    "nlat_cloud_reg_fig=plt.figure()\n",
    "\n",
    "plt.scatter(north_df[\"Lat\"],north_df[\"Cloudiness\"])\n",
    "plt.xlabel(\"Latitude\")\n",
    "plt.ylabel(\"Cloudiness (%)\")\n",
    "plt.title(\"City Latitude vs. Cloudiness (%)\")\n",
    "\n",
    "\n",
    "(slope, intercept, rvalue, pvalue, stderr)= linregress(north_df[\"Lat\"],north_df[\"Cloudiness\"])\n",
    "regress_values= north_df[\"Lat\"] * slope + intercept\n",
    "line_eq=\"y = \" + str(round(slope,2)) + \"x +\" +str(round(intercept,2))\n",
    "\n",
    "plt.plot(north_df[\"Lat\"],regress_values,\"r-\")\n",
    "\n",
    "plt.show()\n",
    "\n",
    "nlat_cloud_reg_fig.savefig(\"scatter_lat_cloud_regression_north.png\")\n"
   ]
  },
  {
   "cell_type": "markdown",
   "metadata": {},
   "source": [
    "####  Southern Hemisphere - Cloudiness (%) vs. Latitude Linear Regression"
   ]
  },
  {
   "cell_type": "code",
   "execution_count": 33,
   "metadata": {},
   "outputs": [
    {
     "data": {
      "image/png": "[encoded data removed]",
      "text/plain": [
       "<Figure size 432x288 with 1 Axes>"
      ]
     },
     "metadata": {
      "needs_background": "light"
     },
     "output_type": "display_data"
    }
   ],
   "source": [
    "south_df=city_list_df.loc[(city_list_df[\"Lat\"]<0)]\n",
    "\n",
    "slat_cloud_reg_fig=plt.figure()\n",
    "\n",
    "plt.scatter(south_df[\"Lat\"],south_df[\"Cloudiness\"])\n",
    "plt.xlabel(\"Latitude\")\n",
    "plt.ylabel(\"Cloudiness (%)\")\n",
    "plt.title(\"City Latitude vs. Cloudiness(%)\")\n",
    "\n",
    "\n",
    "(slope, intercept, rvalue, pvalue, stderr)= linregress(south_df[\"Lat\"],south_df[\"Cloudiness\"])\n",
    "regress_values= south_df[\"Lat\"] * slope + intercept\n",
    "line_eq=\"y = \" + str(round(slope,2)) + \"x +\" +str(round(intercept,2))\n",
    "\n",
    "plt.plot(south_df[\"Lat\"],regress_values,\"r-\")\n",
    "\n",
    "plt.show()\n",
    "\n",
    "slat_cloud_reg_fig.savefig(\"scatter_lat_cloud_regression_south.png\")"
   ]
  },
  {
   "cell_type": "markdown",
   "metadata": {},
   "source": [
    "####  Northern Hemisphere - Wind Speed (mph) vs. Latitude Linear Regression"
   ]
  },
  {
   "cell_type": "code",
   "execution_count": 31,
   "metadata": {},
   "outputs": [
    {
     "name": "stdout",
     "output_type": "stream",
     "text": [
      "The r-value is: 0.04019723576144484\n"
     ]
    },
    {
     "data": {
      "image/png": "[encoded data removed]",
      "text/plain": [
       "<Figure size 432x288 with 1 Axes>"
      ]
     },
     "metadata": {
      "needs_background": "light"
     },
     "output_type": "display_data"
    }
   ],
   "source": [
    "north_df=city_list_df.loc[(city_list_df[\"Lat\"]>=0)]\n",
    "\n",
    "nlat_wind_reg_fig=plt.figure()\n",
    "\n",
    "plt.scatter(north_df[\"Lat\"],north_df[\"Wind Speed\"])\n",
    "plt.xlabel(\"Latitude\")\n",
    "plt.ylabel(\"Wind Speed (mph)\")\n",
    "plt.title(\"City Latitude vs. Wind Speed (mph)\")\n",
    "\n",
    "\n",
    "(slope, intercept, rvalue, pvalue, stderr)= linregress(north_df[\"Lat\"],north_df[\"Wind Speed\"])\n",
    "regress_values= north_df[\"Lat\"] * slope + intercept\n",
    "line_eq=\"y = \" + str(round(slope,2)) + \"x +\" +str(round(intercept,2))\n",
    "\n",
    "plt.plot(north_df[\"Lat\"],regress_values,\"r-\")\n",
    "\n",
    "plt.show()\n",
    "\n",
    "nlat_wind_reg_fig.savefig(\"scatter_lat_wind_regression_north.png\")\n",
    "\n"
   ]
  },
  {
   "cell_type": "markdown",
   "metadata": {},
   "source": [
    "####  Southern Hemisphere - Wind Speed (mph) vs. Latitude Linear Regression"
   ]
  },
  {
   "cell_type": "code",
   "execution_count": 34,
   "metadata": {},
   "outputs": [
    {
     "data": {
      "image/png": "[encoded data removed]",
      "text/plain": [
       "<Figure size 432x288 with 1 Axes>"
      ]
     },
     "metadata": {
      "needs_background": "light"
     },
     "output_type": "display_data"
    }
   ],
   "source": [
    "south_df=city_list_df.loc[(city_list_df[\"Lat\"]<0)]\n",
    "\n",
    "slat_wind_reg_fig=plt.figure()\n",
    "\n",
    "plt.scatter(south_df[\"Lat\"],south_df[\"Wind Speed\"])\n",
    "plt.xlabel(\"Latitude\")\n",
    "plt.ylabel(\"Wind Speed (mph)\")\n",
    "plt.title(\"City Latitude vs. Wind Speed(mph)\")\n",
    "\n",
    "\n",
    "(slope, intercept, rvalue, pvalue, stderr)= linregress(south_df[\"Lat\"],south_df[\"Wind Speed\"])\n",
    "regress_values= south_df[\"Lat\"] * slope + intercept\n",
    "line_eq=\"y = \" + str(round(slope,2)) + \"x +\" +str(round(intercept,2))\n",
    "\n",
    "plt.plot(south_df[\"Lat\"],regress_values,\"r-\")\n",
    "\n",
    "plt.show()\n",
    "\n",
    "slat_wind_reg_fig.savefig(\"scatter_lat_wind_regression_south.png\")"
   ]
  },
  {
   "cell_type": "code",
   "execution_count": null,
   "metadata": {},
   "outputs": [],
   "source": []
  }
 ],
 "metadata": {
  "anaconda-cloud": {},
  "kernel_info": {
   "name": "python3"
  },
  "kernelspec": {
   "display_name": "Python [conda env:pythondata] *",
   "language": "python",
   "name": "conda-env-pythondata-py"
  },
  "language_info": {
   "codemirror_mode": {
    "name": "ipython",
    "version": 3
   },
   "file_extension": ".py",
   "mimetype": "text/x-python",
   "name": "python",
   "nbconvert_exporter": "python",
   "pygments_lexer": "ipython3",
   "version": "3.6.10"
  },
  "latex_envs": {
   "LaTeX_envs_menu_present": true,
   "autoclose": false,
   "autocomplete": true,
   "bibliofile": "biblio.bib",
   "cite_by": "apalike",
   "current_citInitial": 1,
   "eqLabelWithNumbers": true,
   "eqNumInitial": 1,
   "hotkeys": {
    "equation": "Ctrl-E",
    "itemize": "Ctrl-I"
   },
   "labels_anchors": false,
   "latex_user_defs": false,
   "report_style_numbering": false,
   "user_envs_cfg": false
  },
  "nteract": {
   "version": "0.12.3"
  }
 },
 "nbformat": 4,
 "nbformat_minor": 2
}
